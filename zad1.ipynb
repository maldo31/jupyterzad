{
 "cells": [
  {
   "cell_type": "code",
   "execution_count": 16,
   "metadata": {},
   "outputs": [
    {
     "name": "stdout",
     "output_type": "stream",
     "text": [
      "     SEX  LENGTH  DIAMETER  HEIGHT  WHOLE WEIGHT  SHUCKED WEIGHT  \\\n",
      "0      M   0.455     0.365   0.095        0.5140          0.2245   \n",
      "1      M   0.350     0.265   0.090        0.2255          0.0995   \n",
      "2      F   0.530     0.420   0.135        0.6770          0.2565   \n",
      "3      M   0.440     0.365   0.125        0.5160          0.2155   \n",
      "4      I   0.330     0.255   0.080        0.2050          0.0895   \n",
      "...   ..     ...       ...     ...           ...             ...   \n",
      "4172   F   0.565     0.450   0.165        0.8870          0.3700   \n",
      "4173   M   0.590     0.440   0.135        0.9660          0.4390   \n",
      "4174   M   0.600     0.475   0.205        1.1760          0.5255   \n",
      "4175   F   0.625     0.485   0.150        1.0945          0.5310   \n",
      "4176   M   0.710     0.555   0.195        1.9485          0.9455   \n",
      "\n",
      "      VISCERA WEIGHT  SHELL WEIGHT  RINGS  \n",
      "0             0.1010        0.1500     15  \n",
      "1             0.0485        0.0700      7  \n",
      "2             0.1415        0.2100      9  \n",
      "3             0.1140        0.1550     10  \n",
      "4             0.0395        0.0550      7  \n",
      "...              ...           ...    ...  \n",
      "4172          0.2390        0.2490     11  \n",
      "4173          0.2145        0.2605     10  \n",
      "4174          0.2875        0.3080      9  \n",
      "4175          0.2610        0.2960     10  \n",
      "4176          0.3765        0.4950     12  \n",
      "\n",
      "[4177 rows x 9 columns]\n"
     ]
    },
    {
     "data": {
      "text/plain": "        counts      %\nMale      1528  36.58\nInfant    1342  32.13\nFemale    1307  31.29",
      "text/html": "<div>\n<style scoped>\n    .dataframe tbody tr th:only-of-type {\n        vertical-align: middle;\n    }\n\n    .dataframe tbody tr th {\n        vertical-align: top;\n    }\n\n    .dataframe thead th {\n        text-align: right;\n    }\n</style>\n<table border=\"1\" class=\"dataframe\">\n  <thead>\n    <tr style=\"text-align: right;\">\n      <th></th>\n      <th>counts</th>\n      <th>%</th>\n    </tr>\n  </thead>\n  <tbody>\n    <tr>\n      <th>Male</th>\n      <td>1528</td>\n      <td>36.58</td>\n    </tr>\n    <tr>\n      <th>Infant</th>\n      <td>1342</td>\n      <td>32.13</td>\n    </tr>\n    <tr>\n      <th>Female</th>\n      <td>1307</td>\n      <td>31.29</td>\n    </tr>\n  </tbody>\n</table>\n</div>"
     },
     "metadata": {},
     "output_type": "display_data"
    }
   ],
   "source": [
    "import pandas as pd\n",
    "from IPython.display import display, HTML\n",
    "\n",
    "colnames=['SEX','LENGTH','DIAMETER','HEIGHT','WHOLE WEIGHT','SHUCKED WEIGHT','VISCERA WEIGHT','SHELL WEIGHT','RINGS']\n",
    "data=pd.read_csv('data.csv',names=colnames,header=None)\n",
    "print(data)\n",
    "counts = data['SEX'].value_counts()\n",
    "percent=data['SEX'].value_counts(normalize=True)*100\n",
    "percent=percent.round(decimals=2)\n",
    "result=pd.DataFrame({'counts':counts,'%':percent})\n",
    "result=result.rename({'M':'Male','F':'Female','I':'Infant'})\n",
    "\n",
    "display(result)"
   ]
  },
  {
   "cell_type": "code",
   "execution_count": 16,
   "metadata": {},
   "outputs": [],
   "source": []
  }
 ],
 "metadata": {
  "kernelspec": {
   "display_name": "Python 3 (ipykernel)",
   "language": "python",
   "name": "python3"
  },
  "language_info": {
   "codemirror_mode": {
    "name": "ipython",
    "version": 3
   },
   "file_extension": ".py",
   "mimetype": "text/x-python",
   "name": "python",
   "nbconvert_exporter": "python",
   "pygments_lexer": "ipython3",
   "version": "3.8.10"
  }
 },
 "nbformat": 4,
 "nbformat_minor": 1
}