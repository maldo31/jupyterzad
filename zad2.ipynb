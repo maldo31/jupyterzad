{
 "cells": [
  {
   "cell_type": "code",
   "execution_count": 5,
   "metadata": {
    "collapsed": true
   },
   "outputs": [
    {
     "data": {
      "text/plain": "                    mean       std     min     25%     50%     75%      max\nLENGTH          0.523992  0.120093  0.0750  0.4500  0.5450   0.615   0.8150\nDIAMETER        0.407881  0.099240  0.0550  0.3500  0.4250   0.480   0.6500\nHEIGHT          0.139516  0.041827  0.0000  0.1150  0.1400   0.165   1.1300\nWHOLE WEIGHT    0.828742  0.490389  0.0020  0.4415  0.7995   1.153   2.8255\nSHUCKED WEIGHT  0.359367  0.221963  0.0010  0.1860  0.3360   0.502   1.4880\nVISCERA WEIGHT  0.180594  0.109614  0.0005  0.0935  0.1710   0.253   0.7600\nSHELL WEIGHT    0.238831  0.139203  0.0015  0.1300  0.2340   0.329   1.0050\nRINGS           9.933684  3.224169  1.0000  8.0000  9.0000  11.000  29.0000",
      "text/html": "<div>\n<style scoped>\n    .dataframe tbody tr th:only-of-type {\n        vertical-align: middle;\n    }\n\n    .dataframe tbody tr th {\n        vertical-align: top;\n    }\n\n    .dataframe thead th {\n        text-align: right;\n    }\n</style>\n<table border=\"1\" class=\"dataframe\">\n  <thead>\n    <tr style=\"text-align: right;\">\n      <th></th>\n      <th>mean</th>\n      <th>std</th>\n      <th>min</th>\n      <th>25%</th>\n      <th>50%</th>\n      <th>75%</th>\n      <th>max</th>\n    </tr>\n  </thead>\n  <tbody>\n    <tr>\n      <th>LENGTH</th>\n      <td>0.523992</td>\n      <td>0.120093</td>\n      <td>0.0750</td>\n      <td>0.4500</td>\n      <td>0.5450</td>\n      <td>0.615</td>\n      <td>0.8150</td>\n    </tr>\n    <tr>\n      <th>DIAMETER</th>\n      <td>0.407881</td>\n      <td>0.099240</td>\n      <td>0.0550</td>\n      <td>0.3500</td>\n      <td>0.4250</td>\n      <td>0.480</td>\n      <td>0.6500</td>\n    </tr>\n    <tr>\n      <th>HEIGHT</th>\n      <td>0.139516</td>\n      <td>0.041827</td>\n      <td>0.0000</td>\n      <td>0.1150</td>\n      <td>0.1400</td>\n      <td>0.165</td>\n      <td>1.1300</td>\n    </tr>\n    <tr>\n      <th>WHOLE WEIGHT</th>\n      <td>0.828742</td>\n      <td>0.490389</td>\n      <td>0.0020</td>\n      <td>0.4415</td>\n      <td>0.7995</td>\n      <td>1.153</td>\n      <td>2.8255</td>\n    </tr>\n    <tr>\n      <th>SHUCKED WEIGHT</th>\n      <td>0.359367</td>\n      <td>0.221963</td>\n      <td>0.0010</td>\n      <td>0.1860</td>\n      <td>0.3360</td>\n      <td>0.502</td>\n      <td>1.4880</td>\n    </tr>\n    <tr>\n      <th>VISCERA WEIGHT</th>\n      <td>0.180594</td>\n      <td>0.109614</td>\n      <td>0.0005</td>\n      <td>0.0935</td>\n      <td>0.1710</td>\n      <td>0.253</td>\n      <td>0.7600</td>\n    </tr>\n    <tr>\n      <th>SHELL WEIGHT</th>\n      <td>0.238831</td>\n      <td>0.139203</td>\n      <td>0.0015</td>\n      <td>0.1300</td>\n      <td>0.2340</td>\n      <td>0.329</td>\n      <td>1.0050</td>\n    </tr>\n    <tr>\n      <th>RINGS</th>\n      <td>9.933684</td>\n      <td>3.224169</td>\n      <td>1.0000</td>\n      <td>8.0000</td>\n      <td>9.0000</td>\n      <td>11.000</td>\n      <td>29.0000</td>\n    </tr>\n  </tbody>\n</table>\n</div>"
     },
     "metadata": {},
     "output_type": "display_data"
    }
   ],
   "source": [
    "import pandas as pd\n",
    "from IPython.display import display, HTML\n",
    "\n",
    "colnames=['SEX','LENGTH','DIAMETER','HEIGHT','WHOLE WEIGHT','SHUCKED WEIGHT','VISCERA WEIGHT','SHELL WEIGHT','RINGS']\n",
    "data=pd.read_csv('data.csv',names=colnames,header=None)\n",
    "\n",
    "cols = ['LENGTH','DIAMETER','HEIGHT','WHOLE WEIGHT','SHUCKED WEIGHT','VISCERA WEIGHT','SHELL WEIGHT','RINGS']\n",
    "mean = data[cols].mean()\n",
    "std = data[cols].std()\n",
    "min = data[cols].min()\n",
    "max = data[cols].max()\n",
    "q1 = data[cols].quantile(0.25)\n",
    "q2 = data[cols].quantile()\n",
    "q3 = data[cols].quantile(0.75)\n",
    "result=pd.DataFrame({'mean':mean,'std':std,'min':min,'25%':q1,'50%':q2,'75%':q3,'max':max})\n",
    "display(result)\n",
    "\n"
   ]
  }
 ],
 "metadata": {
  "kernelspec": {
   "display_name": "Python 3",
   "language": "python",
   "name": "python3"
  },
  "language_info": {
   "codemirror_mode": {
    "name": "ipython",
    "version": 2
   },
   "file_extension": ".py",
   "mimetype": "text/x-python",
   "name": "python",
   "nbconvert_exporter": "python",
   "pygments_lexer": "ipython2",
   "version": "2.7.6"
  }
 },
 "nbformat": 4,
 "nbformat_minor": 0
}